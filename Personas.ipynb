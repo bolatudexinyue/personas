{
 "cells": [
  {
   "cell_type": "markdown",
   "metadata": {},
   "source": [
    "#### 将原始数据转换成utf-8编码，防止后续出现各种编码问题\n",
    "#### 由于原始数据比较大，在分词与过滤阶段会比较慢，这里我们选择了原始数据中的1K个\n",
    "#### 这里的操作是实现csv文件的打开以及写入一行数据，首先是导入csv模块，（如果没有安装csv模块，可以参考模块的安装方式 \n",
    "#### 包括pip 和 easy_install） \n",
    "#### 然后，使用csv的open函数以w（写入）方式打开，如果该csv文件不存在 则会在相对目录中创建一个csv文件。\n",
    "#### 然后实例化一个写入对象writer，\n",
    "#### 最后是使用writerow函数写入一条记录。"
   ]
  },
  {
   "cell_type": "code",
   "execution_count": null,
   "metadata": {},
   "outputs": [],
   "source": []
  },
  {
   "cell_type": "markdown",
   "metadata": {},
   "source": [
    " ## 1、训练集编码转换"
   ]
  },
  {
   "cell_type": "code",
   "execution_count": 1,
   "metadata": {
    "scrolled": false
   },
   "outputs": [],
   "source": [
    "import csv    #逗号分隔值 Comma-Separated Values\n",
    "\n",
    "#原始数据存储位置\n",
    "data_path = '/Users/peijian/Downloads/python/数据分析&机器学习/数据挖掘案例/用户画像/user_tag_query.10W.TRAIN'\n",
    "#生成数据路径\n",
    "csvfile = open(data_path + '-1k.csv', 'w')\n",
    "writer = csv.writer(csvfile)\n",
    "writer.writerow(['ID', 'Age', 'Gender', 'Education', 'QueryList'])\n",
    "\n",
    "#转换成utf-8编码的格式\n",
    "with open(data_path, 'r', encoding='gb18030', errors='ignore') as f:\n",
    "    lines = f.readlines()\n",
    "    for line in lines[:1000]:\n",
    "        try:\n",
    "            #strip(rm)  当rm为空时，默认删除空白符（包括'\\n', '\\r',  '\\t',  ' ')         \n",
    "            line.strip()\n",
    "            # split() 方法通过指定分隔符对字符串进行分割并返回一个列表，\n",
    "            # 默认分隔符为所有空字符，包括空格、换行(\\n)、制表符(\\t)等\n",
    "            data = line.split('\\t')\n",
    "            writedata = [data[0], data[1], data[2], data[3]]\n",
    "            querystr = ''\n",
    "            data[-1] = data[-1][:-1]\n",
    "#             print(data[4:])\n",
    "            for d in data[4:]:\n",
    "                try:\n",
    "                    cur_str = d.encode('utf8')\n",
    "#                     print(cur_str)\n",
    "                    cur_str = cur_str.decode('utf8')\n",
    "#                     print(cur_str)\n",
    "                    querystr += cur_str + '\\t'\n",
    "                except:\n",
    "                    continue\n",
    "#                     print(data[0][0:10])\n",
    "            querystr = querystr[: -1]\n",
    "#             print(querystr)\n",
    "            writedata.append(querystr)\n",
    "#             print(writedata)\n",
    "#             print('*' * 80)\n",
    "            writer.writerow(writedata)\n",
    "          \n",
    "        except:    \n",
    "            continue\n",
    "#     print(writedata)\n",
    "      "
   ]
  },
  {
   "cell_type": "markdown",
   "metadata": {},
   "source": [
    "## 2、测试集编码转换"
   ]
  },
  {
   "cell_type": "code",
   "execution_count": 5,
   "metadata": {},
   "outputs": [],
   "source": [
    "import csv\n",
    "data_path = '/Users/peijian/Downloads/python/数据分析&机器学习/数据挖掘案例/用户画像/user_tag_query.10W.TEST'\n",
    "\n",
    "csvfile = open(data_path + '-1k.csv', 'w')\n",
    "writer = csv.writer(csvfile)\n",
    "writer.writerow(['ID', 'QueryList'])\n",
    "with open(data_path, 'r',encoding='gb18030',errors='ignore') as f:\n",
    "    lines = f.readlines()\n",
    "    for line in lines[0:1000]:\n",
    "        try:\n",
    "            line.strip()\n",
    "            data = line.split(\"\\t\")\n",
    "            writedata = [data[0]]\n",
    "            querystr = ''\n",
    "            data[-1]=data[-1][:-1]\n",
    "#             print(data[1:])\n",
    "            for d in data[1:]:\n",
    "                try:                  \n",
    "                    cur_str = d.encode('utf8')\n",
    "                    cur_str = cur_str.decode('utf8')\n",
    "                    querystr += cur_str + '\\t'               \n",
    "                except:\n",
    "                    #print (data[0][0:10])\n",
    "                    continue\n",
    "            querystr = querystr[:-1]\n",
    "#             print(querystr)\n",
    "            writedata.append(querystr)\n",
    "#             print(writedata)\n",
    "            writer.writerow(writedata)\n",
    "        except:\n",
    "            #print (data[0][0:20])\n",
    "            continue"
   ]
  },
  {
   "cell_type": "markdown",
   "metadata": {},
   "source": [
    "## 3、生成对应的数据表"
   ]
  },
  {
   "cell_type": "code",
   "execution_count": 6,
   "metadata": {},
   "outputs": [
    {
     "name": "stdout",
     "output_type": "stream",
     "text": [
      "<class 'pandas.core.frame.DataFrame'>\n",
      "RangeIndex: 1000 entries, 0 to 999\n",
      "Data columns (total 5 columns):\n",
      "ID           1000 non-null object\n",
      "Age          1000 non-null int64\n",
      "Gender       1000 non-null int64\n",
      "Education    1000 non-null int64\n",
      "QueryList    1000 non-null object\n",
      "dtypes: int64(3), object(2)\n",
      "memory usage: 39.1+ KB\n",
      "None\n",
      "<class 'pandas.core.frame.DataFrame'>\n",
      "RangeIndex: 1000 entries, 0 to 999\n",
      "Data columns (total 2 columns):\n",
      "ID           1000 non-null object\n",
      "QueryList    1000 non-null object\n",
      "dtypes: object(2)\n",
      "memory usage: 15.7+ KB\n",
      "None\n"
     ]
    }
   ],
   "source": [
    "import pandas as pd\n",
    "\n",
    "#编码转换完成的数据，取的是1W的子集\n",
    "trainname = '/Users/peijian/Downloads/python/数据分析&机器学习/数据挖掘案例/用户画像/user_tag_query.10W.TRAIN-1k.csv'\n",
    "testname = '/Users/peijian/Downloads/python/数据分析&机器学习/数据挖掘案例/用户画像/user_tag_query.10W.TEST-1k.csv'\n",
    "\n",
    "data = pd.read_csv(trainname,encoding='utf8')\n",
    "print (data.info())\n",
    "\n",
    "# 分别生成三种标签数据（性别，年龄，学历）\n",
    "data.Age.to_csv(\"/Users/peijian/Downloads/python/数据分析&机器学习/数据挖掘案例/用户画像/train_age.csv\", index=False)\n",
    "data.Gender.to_csv(\"/Users/peijian/Downloads/python/数据分析&机器学习/数据挖掘案例/用户画像/train_gender.csv\", index=False)\n",
    "data.Education.to_csv(\"/Users/peijian/Downloads/python/数据分析&机器学习/数据挖掘案例/用户画像/train_education.csv\", index=False)\n",
    "# #将搜索数据单独拿出来\n",
    "data.QueryList.to_csv(\"/Users/peijian/Downloads/python/数据分析&机器学习/数据挖掘案例/用户画像/train_querylist.csv\", index=False)\n",
    "\n",
    "data = pd.read_csv(testname,encoding='utf8')\n",
    "print (data.info())\n",
    "#测试数据\n",
    "data.QueryList.to_csv(\"/Users/peijian/Downloads/python/数据分析&机器学习/数据挖掘案例/用户画像/test_querylist.csv\", index=False)"
   ]
  },
  {
   "cell_type": "markdown",
   "metadata": {},
   "source": [
    "## 对用户的搜索数据进行分词与词性过滤"
   ]
  },
  {
   "cell_type": "markdown",
   "metadata": {},
   "source": [
    "## 4、训练集操作"
   ]
  },
  {
   "cell_type": "code",
   "execution_count": 8,
   "metadata": {},
   "outputs": [
    {
     "name": "stdout",
     "output_type": "stream",
     "text": [
      "100 finished\n",
      "200 finished\n",
      "300 finished\n",
      "400 finished\n",
      "500 finished\n",
      "600 finished\n",
      "700 finished\n",
      "800 finished\n",
      "900 finished\n",
      "total time: 91.378115 s\n"
     ]
    }
   ],
   "source": [
    "import pandas as pd\n",
    "import jieba\n",
    "import jieba.analyse\n",
    "import jieba.posseg\n",
    "import time\n",
    "import os, sys\n",
    "\n",
    "def input(trainname):\n",
    "    traindata = []\n",
    "    with open(trainname, 'rb') as f:\n",
    "        line = f.readline()   #读入数据，返回以行为单位的字符串\n",
    "        count = 0\n",
    "        while line:\n",
    "            try:\n",
    "                traindata.append(line)\n",
    "                count += 1\n",
    "            except:\n",
    "                print('error:   line:%s,   count:%s'%(line, count))\n",
    "            line = f.readline()\n",
    "    return traindata\n",
    "\n",
    "start_time = time.clock()\n",
    "\n",
    "filepath = '/Users/peijian/Downloads/python/数据分析&机器学习/数据挖掘案例/用户画像/train_querylist.csv'\n",
    "QueryList = input(filepath)\n",
    "writepath = '/Users/peijian/Downloads/python/数据分析&机器学习/数据挖掘案例/用户画像/train_querylist_writefile-1k.csv'\n",
    "csvfile = open(writepath, 'w')\n",
    "\n",
    "POS = {}\n",
    "# print(QueryList)\n",
    "for i in range(len(QueryList)):\n",
    "#     print(i)\n",
    "    if i % 100  == 0 and i >= 100:\n",
    "        print(i, 'finished')\n",
    "    s = []\n",
    "    str = ''\n",
    "    words = jieba.posseg.cut(QueryList[i]) #带有词性的精确分词模式\n",
    "    allowPOS = ['n', 'v', 'j']\n",
    "#     print(words)\n",
    "    for word , flag in words:\n",
    "#         print(word, flag)\n",
    "        POS[flag] = POS.get(flag, 0) + 1  #是统计字典POS里面的每个文本属性出现的次数\n",
    "#         print(flag[0],word)\n",
    "        if (flag[0] in allowPOS) and len(word) >=2:\n",
    "            str += word + ' '\n",
    "#     print(str)    \n",
    "            \n",
    "# print(POS)    \n",
    "    cur_str = str.encode('utf8')\n",
    "    cur_str = cur_str.decode('utf8')\n",
    "    s.append(cur_str)\n",
    "    \n",
    "    csvfile.write(' '.join(s) + '\\n') #拼接词，写入csv文件\n",
    "csvfile.close()\n",
    "# pd.read_csv('/Users/peijian/Downloads/python/数据分析&机器学习/数据挖掘案例/用户画像/test_querylist_writefile-1w.csv')\n",
    "end_time = time.clock()\n",
    "print('total time: %f s'%(end_time - start_time))\n",
    "\n"
   ]
  },
  {
   "cell_type": "markdown",
   "metadata": {},
   "source": [
    "## 5、测试集操作"
   ]
  },
  {
   "cell_type": "code",
   "execution_count": 7,
   "metadata": {},
   "outputs": [
    {
     "name": "stderr",
     "output_type": "stream",
     "text": [
      "Building prefix dict from the default dictionary ...\n",
      "Loading model from cache /var/folders/rk/6v6c81ps2_vdd7tkz09vkk180000gn/T/jieba.cache\n",
      "Loading model cost 1.280 seconds.\n",
      "Prefix dict has been built succesfully.\n"
     ]
    },
    {
     "name": "stdout",
     "output_type": "stream",
     "text": [
      "100 finished\n",
      "200 finished\n",
      "300 finished\n",
      "400 finished\n",
      "500 finished\n",
      "600 finished\n",
      "700 finished\n",
      "800 finished\n",
      "900 finished\n",
      "total time: 87.949349 s\n"
     ]
    }
   ],
   "source": [
    "import pandas as pd\n",
    "import jieba\n",
    "import jieba.analyse\n",
    "import jieba.posseg\n",
    "import time\n",
    "import os, sys\n",
    "\n",
    "def input(trainname):\n",
    "    traindata = []\n",
    "    with open(trainname, 'rb') as f:\n",
    "        line = f.readline() #读入数据，返回以行为单位的字符串\n",
    "        count = 0\n",
    "        while line:\n",
    "            try:\n",
    "                traindata.append(line)\n",
    "                count += 1\n",
    "            except:\n",
    "                print('error:   line:%s,   count:%s'%(line, count))\n",
    "            line = f.readline()\n",
    "    return traindata\n",
    "\n",
    "start_time = time.clock()\n",
    "\n",
    "filepath = '/Users/peijian/Downloads/python/数据分析&机器学习/数据挖掘案例/用户画像/test_querylist.csv'\n",
    "QueryList = input(filepath)\n",
    "writepath = '/Users/peijian/Downloads/python/数据分析&机器学习/数据挖掘案例/用户画像/test_querylist_writefile-1k.csv'\n",
    "csvfile = open(writepath, 'w')\n",
    "\n",
    "POS = {}\n",
    "# print(QueryList)\n",
    "for i in range(len(QueryList)):\n",
    "#     print(i)\n",
    "    if i % 100  == 0 and i >= 100:\n",
    "        print(i, 'finished')\n",
    "    s = []\n",
    "    str = ''\n",
    "    words = jieba.posseg.cut(QueryList[i]) #带有词性的精确分词模式\n",
    "    allowPOS = ['n', 'v', 'j']\n",
    "#     print(words)\n",
    "    for word , flag in words:\n",
    "#         print(word, flag)\n",
    "        POS[flag] = POS.get(flag, 0) + 1  #是统计字典POS里面的每个文本属性出现的次数\n",
    "#         print(flag[0],word)\n",
    "        if (flag[0] in allowPOS) and len(word) >=2:\n",
    "            str += word + ' '\n",
    "#     print(str)    \n",
    "            \n",
    "# print(POS)    \n",
    "    cur_str = str.encode('utf8')\n",
    "    cur_str = cur_str.decode('utf8')\n",
    "    s.append(cur_str)\n",
    "    \n",
    "    csvfile.write(' '.join(s) + '\\n') #拼接词，写入csv文件\n",
    "csvfile.close()\n",
    "# pd.read_csv('/Users/peijian/Downloads/python/数据分析&机器学习/数据挖掘案例/用户画像/test_querylist_writefile-1w.csv')\n",
    "end_time = time.clock()\n",
    "print('total time: %f s'%(end_time - start_time))\n"
   ]
  },
  {
   "cell_type": "markdown",
   "metadata": {},
   "source": [
    "### 使用Gensim库建立word2vec词向量模型\n",
    "### 参数定义：\n",
    "-  sentences：可以是一个list\n",
    "-  sg： 用于设置训练算法，默认为0，对应CBOW算法；sg=1则采用skip-gram算法。\n",
    "-  size：是指特征向量的维度，默认为100。大的size需要更多的训练数据,但是效果会更好. 推荐值为几十到几百。\n",
    "-  window：表示当前词与预测词在一个句子中的最大距离是多少\n",
    "-  alpha: 是学习速率\n",
    "-  seed：用于随机数发生器。与初始化词向量有关。\n",
    "-  min_count: 可以对字典做截断. 词频少于min_count次数的单词会被丢弃掉, 默认值为5\n",
    "-  max_vocab_size: 设置词向量构建期间的RAM限制。如果所有独立单词个数超过这个，则就消除掉其中最不频繁的一个。每一千万个单词需要大约1GB的RAM。设置成None则没有限制。\n",
    "\n",
    "-  workers参数控制训练的并行数。\n",
    "-  hs: 如果为1则会采用hierarchica·softmax技巧。如果设置为0（defau·t），则negative sampling会被使用。\n",
    "-  negative: 如果>0,则会采用negativesamp·ing，用于设置多少个noise words\n",
    "-  iter： 迭代次数，默认为5"
   ]
  },
  {
   "cell_type": "markdown",
   "metadata": {},
   "source": [
    "## 6、建立训练集词向量模型"
   ]
  },
  {
   "cell_type": "code",
   "execution_count": 36,
   "metadata": {},
   "outputs": [],
   "source": [
    "from gensim.models import word2vec\n",
    "\n",
    "#将数据变换成list of list 格式  列表里元素是列表\n",
    "train_path = '/Users/peijian/Downloads/python/数据分析&机器学习/数据挖掘案例/用户画像/train_querylist_writefile-1k.csv' \n",
    "with open(train_path, 'r', encoding='utf8') as f:\n",
    "    my_list = []\n",
    "    lines = f.readlines() #读入数据，返回以行为单位的列表\n",
    "#     print(lines)\n",
    "    for line in lines:\n",
    "#         print(line)\n",
    "#         print('*' * 10)\n",
    "        cur_list = []\n",
    "        line = line.strip()  ##strip(rm)  当rm为空时，默认删除空白符（包括'\\n', '\\r',  '\\t',  ' ') \n",
    "        # split() 方法通过指定分隔符对字符串进行分割并返回一个列表，\n",
    "        # 默认分隔符为所有空字符，包括空格、换行(\\n)、制表符(\\t)等\n",
    "        data = line.split(' ')\n",
    "        for d in data:\n",
    "            cur_list.append(d)\n",
    "        my_list.append(cur_list)\n",
    "    \n",
    "    #size: 特征向量维度， window: 当前词与预测词在一个句子中的最大距离是多少， workers: 参数控制训练的并行数\n",
    "    model = word2vec.Word2Vec(my_list, size=300, window=10, workers=4)\n",
    "    savepath = '/Users/peijian/Downloads/python/数据分析&机器学习/数据挖掘案例/用户画像/1k_word2vec_' + '300_train'+'.model' #保存model的路径\n",
    "    model.save(savepath)\n",
    "    \n",
    "\n",
    "        \n",
    "        "
   ]
  },
  {
   "cell_type": "markdown",
   "metadata": {},
   "source": [
    "## 7、建立测试集词向量模型"
   ]
  },
  {
   "cell_type": "code",
   "execution_count": 38,
   "metadata": {},
   "outputs": [],
   "source": [
    "from gensim.models import word2vec\n",
    "\n",
    "#将数据变换成list of list 格式  列表里元素是列表\n",
    "train_path = '/Users/peijian/Downloads/python/数据分析&机器学习/数据挖掘案例/用户画像/test_querylist_writefile-1k.csv' \n",
    "with open(train_path, 'r', encoding='utf8') as f:\n",
    "    my_list = []\n",
    "    lines = f.readlines() #读入数据，返回以行为单位的列表\n",
    "#     print(lines)\n",
    "    for line in lines:\n",
    "#         print(line)\n",
    "#         print('*' * 10)\n",
    "        cur_list = []\n",
    "        line = line.strip()  ##strip(rm)  当rm为空时，默认删除空白符（包括'\\n', '\\r',  '\\t',  ' ') \n",
    "        # split() 方法通过指定分隔符对字符串进行分割并返回一个列表，\n",
    "        # 默认分隔符为所有空字符，包括空格、换行(\\n)、制表符(\\t)等\n",
    "        data = line.split(' ')\n",
    "        for d in data:\n",
    "            cur_list.append(d)\n",
    "        my_list.append(cur_list)\n",
    "    \n",
    "    #size: 特征向量维度， window: 当前词与预测词在一个句子中的最大距离是多少， workers: 参数控制训练的并行数\n",
    "    model = word2vec.Word2Vec(my_list, size=300, window=10, workers=4)\n",
    "    savepath = '/Users/peijian/Downloads/python/数据分析&机器学习/数据挖掘案例/用户画像/1k_word2vec_' + '300_test'+'.model' #保存model的路径\n",
    "    model.save(savepath)\n",
    "    \n",
    "\n",
    "        \n",
    "        "
   ]
  },
  {
   "cell_type": "code",
   "execution_count": 15,
   "metadata": {},
   "outputs": [
    {
     "data": {
      "text/plain": [
       "[('发展', 0.9999012351036072),\n",
       " ('酒吧', 0.9998672008514404),\n",
       " ('自学', 0.9998582005500793),\n",
       " ('手机号码', 0.999855637550354),\n",
       " ('二氧化碳', 0.9998469352722168),\n",
       " ('天宫', 0.9998432993888855),\n",
       " ('状态', 0.999841570854187),\n",
       " ('位置', 0.999838650226593),\n",
       " ('牙齿', 0.9998380541801453),\n",
       " ('海尔', 0.9998377561569214)]"
      ]
     },
     "execution_count": 15,
     "metadata": {},
     "output_type": "execute_result"
    }
   ],
   "source": [
    "model.wv.most_similar_cosmul('美国')"
   ]
  },
  {
   "cell_type": "code",
   "execution_count": 153,
   "metadata": {},
   "outputs": [
    {
     "data": {
      "text/plain": [
       "[('图片', 0.9999827742576599),\n",
       " ('手机', 0.999982476234436),\n",
       " ('意思', 0.9999820590019226),\n",
       " ('视频', 0.9999817609786987),\n",
       " ('时候', 0.9999815225601196),\n",
       " ('电影', 0.9999814629554749),\n",
       " ('下载', 0.9999814033508301),\n",
       " ('中国', 0.9999808669090271),\n",
       " ('时间', 0.999980092048645),\n",
       " ('电脑', 0.9999799728393555)]"
      ]
     },
     "execution_count": 153,
     "metadata": {},
     "output_type": "execute_result"
    }
   ],
   "source": [
    "model.wv.most_similar_cosmul('北京')"
   ]
  },
  {
   "cell_type": "markdown",
   "metadata": {},
   "source": [
    "# 加载训练好的word2vec模型，求用户搜索结果的平均向量"
   ]
  },
  {
   "cell_type": "markdown",
   "metadata": {},
   "source": [
    "## 8、训练集用户搜索结果的平均向量   构造用户特征"
   ]
  },
  {
   "cell_type": "code",
   "execution_count": 37,
   "metadata": {},
   "outputs": [
    {
     "name": "stdout",
     "output_type": "stream",
     "text": [
      "1000\n"
     ]
    },
    {
     "name": "stderr",
     "output_type": "stream",
     "text": [
      "/anaconda3/lib/python3.6/site-packages/ipykernel_launcher.py:18: DeprecationWarning: Call to deprecated `__contains__` (Method will be removed in 4.0.0, use self.wv.__contains__() instead).\n",
      "/anaconda3/lib/python3.6/site-packages/ipykernel_launcher.py:20: DeprecationWarning: Call to deprecated `__getitem__` (Method will be removed in 4.0.0, use self.wv.__getitem__() instead).\n"
     ]
    },
    {
     "data": {
      "text/plain": [
       "(1000, 300)"
      ]
     },
     "execution_count": 37,
     "metadata": {},
     "output_type": "execute_result"
    }
   ],
   "source": [
    "import numpy as np\n",
    "import gensim\n",
    "file_name = '/Users/peijian/Downloads/python/数据分析&机器学习/数据挖掘案例/用户画像/train_querylist_writefile-1k.csv'\n",
    "cur_model = gensim.models.Word2Vec.load('/Users/peijian/Downloads/python/数据分析&机器学习/数据挖掘案例/用户画像/1k_word2vec_300_train.model')\n",
    "with open(file_name, 'r') as f:\n",
    "    cur_index = 0\n",
    "    lines = f.readlines()  #读入数据，返回以行为单位的列表\n",
    "    print(len(lines))\n",
    "    doc_cev = np.zeros((len(lines), 300)) # 整个样本接近1000行，300列（特征值）\n",
    "    for line in lines:\n",
    "        word_vec = np.zeros((1, 300))  # 每个样本 1行300列（特征值）\n",
    "        line = line.strip()\n",
    "        words = line.split(' ')\n",
    "        word_num = 0\n",
    "        \n",
    "        #求模型的平均向量\n",
    "        for word in words:\n",
    "            if word in cur_model:\n",
    "                word_num += 1\n",
    "                word_vec += np.array([cur_model[word]])\n",
    "        doc_cev[cur_index] = word_vec / float(word_num)\n",
    "        cur_index += 1\n",
    "        \n",
    "doc_cev.shape\n",
    "            \n",
    "    "
   ]
  },
  {
   "cell_type": "code",
   "execution_count": 68,
   "metadata": {},
   "outputs": [
    {
     "name": "stdout",
     "output_type": "stream",
     "text": [
      "[[ 0.06832488  0.32596283 -0.09624156 ...  0.05742462  0.06932377\n",
      "  -0.04830669]\n",
      " [ 0.0654227   0.30954785 -0.11374375 ...  0.05855927  0.08596156\n",
      "  -0.02197708]\n",
      " [ 0.06700595  0.29274093 -0.00853721 ...  0.02656076 -0.01436163\n",
      "  -0.13834066]\n",
      " ...\n",
      " [ 0.06897872  0.25913593 -0.00630648 ...  0.029223   -0.01575242\n",
      "  -0.11401732]\n",
      " [ 0.10010176  0.28888933 -0.00363653 ...  0.00362836 -0.02017755\n",
      "  -0.12775131]\n",
      " [ 0.06659681  0.35612158 -0.08979584 ...  0.06863098  0.06129632\n",
      "  -0.07283477]]\n"
     ]
    }
   ],
   "source": [
    "print(doc_cev)"
   ]
  },
  {
   "cell_type": "code",
   "execution_count": 18,
   "metadata": {},
   "outputs": [
    {
     "data": {
      "text/plain": [
       "(1000,)"
      ]
     },
     "execution_count": 18,
     "metadata": {},
     "output_type": "execute_result"
    }
   ],
   "source": [
    "# astype()数据类型转换\n",
    "# Load data from a text file，Each row in the text file must have the same number of values.\n",
    "\n",
    "genderlabel = np.loadtxt(open('/Users/peijian/Downloads/python/数据分析&机器学习/数据挖掘案例/用户画像/train_gender.csv', 'r')).astype(int)\n",
    "genderlabel.shape"
   ]
  },
  {
   "cell_type": "code",
   "execution_count": 26,
   "metadata": {},
   "outputs": [
    {
     "data": {
      "text/plain": [
       "(1000,)"
      ]
     },
     "execution_count": 26,
     "metadata": {},
     "output_type": "execute_result"
    }
   ],
   "source": [
    "educationlabel = np.loadtxt(open('/Users/peijian/Downloads/python/数据分析&机器学习/数据挖掘案例/用户画像/train_education.csv', 'r')).astype(int)\n",
    "educationlabel.shape"
   ]
  },
  {
   "cell_type": "code",
   "execution_count": 23,
   "metadata": {},
   "outputs": [
    {
     "data": {
      "text/plain": [
       "(1000,)"
      ]
     },
     "execution_count": 23,
     "metadata": {},
     "output_type": "execute_result"
    }
   ],
   "source": [
    "agelabel = np.loadtxt(open('/Users/peijian/Downloads/python/数据分析&机器学习/数据挖掘案例/用户画像/train_age.csv', 'r')).astype(int)\n",
    "agelabel.shape"
   ]
  },
  {
   "cell_type": "code",
   "execution_count": null,
   "metadata": {},
   "outputs": [],
   "source": [
    " 返回数组a中非零元素的索引值数组。\n",
    "\n",
    "（1）只有a中非零元素才会有索引值，那些零值元素没有索引值； \n",
    "（2）返回的索引值数组是一个2维tuple数组，该tuple数组中包含一维的array数组。其中，一维array向量的个数与a的维数是一致的。 \n",
    "（3）索引值数组的每一个array均是从一个维度上来描述其索引值。比如，如果a是一个二维数组，则索引值数组有两个array，第一个array从行维度来描述索引值；第二个array从列维度来描述索引值。 \n",
    "（4） 该np.transpose(np.nonzero(x)) \n",
    "函数能够描述出每一个非零元素在不同维度的索引值。 \n",
    "（5）通过a[nonzero(a)]得到所有a中的非零值"
   ]
  },
  {
   "cell_type": "code",
   "execution_count": 125,
   "metadata": {},
   "outputs": [
    {
     "data": {
      "text/plain": [
       "(array([0, 0, 1, 1]), array([1, 2, 0, 2]))"
      ]
     },
     "execution_count": 125,
     "metadata": {},
     "output_type": "execute_result"
    }
   ],
   "source": [
    "import numpy as np\n",
    "a = np.array([[0, 4, 1],\n",
    "              [1, 0, 3]])\n",
    "b = np.nonzero(a)\n",
    "b"
   ]
  },
  {
   "cell_type": "code",
   "execution_count": 21,
   "metadata": {},
   "outputs": [
    {
     "name": "stdout",
     "output_type": "stream",
     "text": [
      "[[-0.14353593  0.06837349  0.36230402 ... -0.25978045  0.25332598\n",
      "  -0.12277648]\n",
      " [-0.09390668 -0.05783897  0.40738428 ... -0.34815916  0.21642885\n",
      "   0.12143648]\n",
      " [-0.14892906 -0.01945369  0.16526717 ... -0.18926779  0.09193724\n",
      "  -0.17401668]\n",
      " ...\n",
      " [ 0.37011939  0.0754554   0.35519172 ...  0.03905357  0.49179145\n",
      "  -0.763993  ]\n",
      " [-0.06460512  0.26299776  0.58868026 ... -0.20940584  0.4988322\n",
      "  -0.61018339]\n",
      " [-0.31004154 -0.05644561  0.26388837 ... -0.27034968  0.06209313\n",
      "   0.06773573]]\n"
     ]
    }
   ],
   "source": [
    "print(doc_cev)"
   ]
  },
  {
   "cell_type": "markdown",
   "metadata": {},
   "source": [
    "## 9、过滤0值"
   ]
  },
  {
   "cell_type": "code",
   "execution_count": 27,
   "metadata": {
    "scrolled": true
   },
   "outputs": [
    {
     "name": "stdout",
     "output_type": "stream",
     "text": [
      "(978, 300) (978,)\n",
      "(981, 300) (981,)\n",
      "(916, 300) (916,)\n"
     ]
    }
   ],
   "source": [
    "\n",
    "\n",
    "def removezero(x, y):\n",
    "        nozero = np.nonzero(y)\n",
    "        y = y[nozero]\n",
    "        x = np.array(x)\n",
    "        x = x[nozero]\n",
    "        return x, y\n",
    "gender_train, genderlabel = removezero(doc_cev, genderlabel)\n",
    "age_train, agelabel = removezero(doc_cev, agelabel)\n",
    "education_train, educationlabel = removezero(doc_cev, educationlabel)\n",
    "print (gender_train.shape,genderlabel.shape)\n",
    "print (age_train.shape,agelabel.shape)\n",
    "print (education_train.shape,educationlabel.shape)\n"
   ]
  },
  {
   "cell_type": "markdown",
   "metadata": {},
   "source": [
    "## 10、绘制函数， 以性别为例， 绘制混淆矩阵"
   ]
  },
  {
   "cell_type": "code",
   "execution_count": 29,
   "metadata": {},
   "outputs": [],
   "source": [
    "import matplotlib.pyplot as plt\n",
    "# Python的内建模块itertools提供了非常有用的用于操作迭代对象的函数。\n",
    "import itertools\n",
    "\n",
    "#打印并绘制混淆矩阵\n",
    "def plot_confusion_matrix(cm, classes, title='Confusion matrix', cmap=plt.cm.Blues):\n",
    "    plt.imshow(cm, interpolation='nearest', cmap=cmap)\n",
    "    plt.title(title)\n",
    "    plt.colorbar()  #为图添加彩条标值\n",
    "    tick_marks = np.arange(len(classes))\n",
    "    plt.xticks(tick_marks, classes, rotation=0)\n",
    "    plt.yticks(tick_marks, classes)\n",
    "    \n",
    "    thresh = cm.max() / 2\n",
    "    \n",
    "    # product 在n个数组中每个数组选一个值组成的所有序列\n",
    "    #text(0.5, 0.5,'matplotlib', \n",
    "    #    horizontalalignment='center',\n",
    "    #    verticalalignment='center',\n",
    "    #    transform=ax.transAxes)\n",
    "    for i, j in itertools.product(range(cm.shape[0]), range(cm.shape[1])):\n",
    "        plt.text(j,i, cm[i, j],  #在轴上添加文本\n",
    "                horizontalalignment='center',\n",
    "                color='white' if cm[i, j] > thresh else 'black')\n",
    "    \n",
    "    plt.tight_layout()   #自动调节 subplot 参数进行指定填充\n",
    "    plt.xlabel('Predicted label')\n",
    "    plt.ylabel('True label')"
   ]
  },
  {
   "cell_type": "markdown",
   "metadata": {},
   "source": [
    "## 11、测试集用户搜索结果的平均向量"
   ]
  },
  {
   "cell_type": "code",
   "execution_count": 39,
   "metadata": {},
   "outputs": [
    {
     "name": "stdout",
     "output_type": "stream",
     "text": [
      "1000\n"
     ]
    },
    {
     "name": "stderr",
     "output_type": "stream",
     "text": [
      "/anaconda3/lib/python3.6/site-packages/ipykernel_launcher.py:18: DeprecationWarning: Call to deprecated `__contains__` (Method will be removed in 4.0.0, use self.wv.__contains__() instead).\n",
      "/anaconda3/lib/python3.6/site-packages/ipykernel_launcher.py:20: DeprecationWarning: Call to deprecated `__getitem__` (Method will be removed in 4.0.0, use self.wv.__getitem__() instead).\n"
     ]
    }
   ],
   "source": [
    "import numpy as np\n",
    "import gensim\n",
    "file_name = '/Users/peijian/Downloads/python/数据分析&机器学习/数据挖掘案例/用户画像/test_querylist_writefile-1k.csv'\n",
    "cur_model = gensim.models.Word2Vec.load('/Users/peijian/Downloads/python/数据分析&机器学习/数据挖掘案例/用户画像/1k_word2vec_300_test.model')\n",
    "with open(file_name, 'r') as f:\n",
    "    cur_index = 0\n",
    "    lines = f.readlines()  #读入数据，返回以行为单位的列表\n",
    "    print(len(lines))\n",
    "    doc_cev = np.zeros((len(lines), 300)) # 整个样本接近1000行，300列（特征值）\n",
    "    for line in lines:\n",
    "        word_vec = np.zeros((1, 300))  # 每个样本 1行300列（特征值）\n",
    "        line = line.strip()\n",
    "        words = line.split(' ')\n",
    "        word_num = 0\n",
    "        \n",
    "        #求模型的平均向量\n",
    "        for word in words:\n",
    "            if word in cur_model:\n",
    "                word_num += 1\n",
    "                word_vec += np.array([cur_model[word]])\n",
    "        doc_cev[cur_index] = word_vec / float(word_num)\n",
    "        cur_index += 1    "
   ]
  },
  {
   "cell_type": "code",
   "execution_count": 40,
   "metadata": {},
   "outputs": [
    {
     "data": {
      "text/plain": [
       "(1000, 300)"
      ]
     },
     "execution_count": 40,
     "metadata": {},
     "output_type": "execute_result"
    }
   ],
   "source": [
    "doc_cev.shape"
   ]
  },
  {
   "cell_type": "code",
   "execution_count": 47,
   "metadata": {},
   "outputs": [
    {
     "data": {
      "text/plain": [
       "array([ 0.07248188,  0.28281311, -0.05221067, -0.02591032,  0.12063755,\n",
       "        0.12275833,  0.00536025,  0.18469497, -0.20882016, -0.26221179,\n",
       "        0.27646158, -0.17151399])"
      ]
     },
     "execution_count": 47,
     "metadata": {},
     "output_type": "execute_result"
    }
   ],
   "source": [
    "doc_cev[5][0:12]"
   ]
  },
  {
   "cell_type": "markdown",
   "metadata": {},
   "source": [
    "## 12、建立一个基础预测模型"
   ]
  },
  {
   "cell_type": "code",
   "execution_count": 48,
   "metadata": {},
   "outputs": [
    {
     "name": "stderr",
     "output_type": "stream",
     "text": [
      "/anaconda3/lib/python3.6/site-packages/sklearn/cross_validation.py:41: DeprecationWarning: This module was deprecated in version 0.18 in favor of the model_selection module into which all the refactored classes and functions are moved. Also note that the interface of the new CV iterators are different from that of this module. This module will be removed in 0.20.\n",
      "  \"This module will be removed in 0.20.\", DeprecationWarning)\n"
     ]
    },
    {
     "name": "stdout",
     "output_type": "stream",
     "text": [
      "0.5408163265306123\n",
      "Recall metric in the testing dataset:  0.20930232558139536\n",
      "accuracy metric in the testing dataset:  0.5408163265306123\n"
     ]
    },
    {
     "data": {
      "image/png": "[encoded data removed]",
      "text/plain": [
       "<matplotlib.figure.Figure at 0x10929a908>"
      ]
     },
     "metadata": {},
     "output_type": "display_data"
    }
   ],
   "source": [
    "from sklearn.linear_model import LogisticRegression  #逻辑回归\n",
    "from sklearn.metrics import confusion_matrix         #混淆矩阵\n",
    "from sklearn.cross_validation import train_test_split  #数据集的切分\n",
    "\n",
    "# train_test_split函数用于将矩阵随机划分为训练子集和测试子集，并返回划分好的训练集测试集样本和训练集测试集标签。\n",
    "# 格式：\n",
    "# X_train,X_test, y_train, y_test =cross_validation.train_test_split(train_data,train_target,test_size=0.3, random_state=0)\n",
    "# 参数解释：\n",
    "# train_data：被划分的样本特征集\n",
    "# train_target：被划分的样本标签\n",
    "# test_size：如果是浮点数，在0-1之间，表示样本占比；如果是整数的话就是样本的数量\n",
    "# random_state：是随机数的种子\n",
    "\n",
    "# print (gender_train.shape,genderlabel.shape)\n",
    "# print (age_train.shape,agelabel.shape)\n",
    "# print (education_train.shape,educationlabel.shape)\n",
    "\n",
    "#(978, 300) (978,)\n",
    "#(981, 300) (981,)\n",
    "#(916, 300) (916,)\n",
    "\n",
    "X_train, X_test, y_train, y_test = train_test_split(gender_train,genderlabel,test_size = 0.2, random_state = 0)\n",
    "\n",
    "LR_model = LogisticRegression()\n",
    "\n",
    "LR_model.fit(X_train,y_train)\n",
    "y_pred = LR_model.predict(X_test)\n",
    "print (LR_model.score(X_test,y_test))\n",
    "\n",
    "cnf_matrix = confusion_matrix(y_test,y_pred) \n",
    "\n",
    "print(\"Recall metric in the testing dataset: \", cnf_matrix[1,1]/(cnf_matrix[1,0]+cnf_matrix[1,1]))\n",
    "\n",
    "print(\"accuracy metric in the testing dataset: \", (cnf_matrix[1,1]+cnf_matrix[0,0])/(cnf_matrix[0,0]+cnf_matrix[1,1]+cnf_matrix[1,0]+cnf_matrix[0,1]))\n",
    "\n",
    "# Plot non-normalized confusion matrix\n",
    "class_names = [0,1]\n",
    "plt.figure()\n",
    "plot_confusion_matrix(cnf_matrix\n",
    "                      , classes=class_names\n",
    "                      , title='Gender-Confusion matrix')\n",
    "plt.show() "
   ]
  },
  {
   "cell_type": "code",
   "execution_count": 49,
   "metadata": {},
   "outputs": [
    {
     "name": "stdout",
     "output_type": "stream",
     "text": [
      "0.5816326530612245\n",
      "Recall metric in the testing dataset:  0.2558139534883721\n",
      "accuracy metric in the testing dataset:  0.5816326530612245\n"
     ]
    },
    {
     "data": {
      "image/png": "[encoded data removed]",
      "text/plain": [
       "<matplotlib.figure.Figure at 0x1a2f4b4c88>"
      ]
     },
     "metadata": {},
     "output_type": "display_data"
    }
   ],
   "source": [
    "from sklearn.ensemble import RandomForestClassifier  #随机森林分类\n",
    "from sklearn.metrics import confusion_matrix\n",
    "from sklearn.cross_validation import train_test_split\n",
    "\n",
    "X_train, X_test, y_train, y_test = train_test_split(gender_train,genderlabel,test_size = 0.2, random_state = 0)\n",
    "\n",
    "RF_model = RandomForestClassifier(n_estimators=100,min_samples_split=5,max_depth=10)\n",
    "\n",
    "RF_model.fit(X_train,y_train)\n",
    "y_pred = RF_model.predict(X_test)\n",
    "print (RF_model.score(X_test,y_test))\n",
    "\n",
    "cnf_matrix = confusion_matrix(y_test,y_pred)\n",
    "\n",
    "print(\"Recall metric in the testing dataset: \", cnf_matrix[1,1]/(cnf_matrix[1,0]+cnf_matrix[1,1]))\n",
    "\n",
    "print(\"accuracy metric in the testing dataset: \", (cnf_matrix[1,1]+cnf_matrix[0,0])/(cnf_matrix[0,0]+cnf_matrix[1,1]+cnf_matrix[1,0]+cnf_matrix[0,1]))\n",
    "\n",
    "# Plot non-normalized confusion matrix\n",
    "class_names = [0,1]\n",
    "plt.figure()\n",
    "plot_confusion_matrix(cnf_matrix\n",
    "                      , classes=class_names\n",
    "                      , title='Gender-Confusion matrix')\n",
    "plt.show()"
   ]
  },
  {
   "cell_type": "markdown",
   "metadata": {},
   "source": [
    "## 13、堆叠模型"
   ]
  },
  {
   "cell_type": "code",
   "execution_count": 50,
   "metadata": {},
   "outputs": [],
   "source": [
    "from sklearn.svm import SVC     #支持向量机\n",
    "from sklearn.naive_bayes import MultinomialNB    #朴素贝叶斯分类器MultinomialNB\n",
    "clf1 = RandomForestClassifier(n_estimators=100,min_samples_split=5,max_depth=10)    #随机森林\n",
    "clf2 = SVC()\n",
    "clf3 = LogisticRegression()    #逻辑回归\n",
    "basemodes = [\n",
    "            ['rf', clf1],\n",
    "            ['svm', clf2],\n",
    "            ['lr', clf3]\n",
    "            ]"
   ]
  },
  {
   "cell_type": "code",
   "execution_count": 55,
   "metadata": {},
   "outputs": [
    {
     "name": "stdout",
     "output_type": "stream",
     "text": [
      "X_train: (782, 300)\n",
      "X_test: (196, 300)\n",
      "y_train: [2 1 2 1 2 2 1 2 1 1 1 1 2 1 1 1 2 1 1 2 2 1 1 2 1 1 2 1 1 2 1 2 2 2 1 2 2\n",
      " 2 2 1 1 2 1 1 1 1 1 1 1 1 2 1 1 1 2 1 2 2 2 2 2 1 1 2 2 1 1 2 1 2 2 2 1 1\n",
      " 2 2 1 2 1 2 1 1 1 2 1 2 2 2 2 1 1 1 1 2 2 1 1 1 2 2 1 1 2 2 1 1 1 2 2 1 2\n",
      " 1 2 1 1 2 2 1 1 1 1 2 1 1 2 1 2 1 2 1 1 2 1 1 2 2 1 1 1 2 1 2 2 2 2 1 1 1\n",
      " 1 2 1 2 1 2 2 1 2 2 2 1 1 1 1 1 1 2 2 1 2 1 2 2 2 1 1 2 1 1 2 1 1 1 1 1 2\n",
      " 1 1 2 1 1 1 1 2 1 2 1 2 1 1 2 1 1 1 1 1 1 1 1 1 2 1 2 2 1 2 1 1 2 2 2 1 1\n",
      " 2 1 2 2 2 2 2 1 2 2 1 1 2 1 1 1 2 1 2 1 1 1 1 1 2 1 1 2 1 1 1 1 2 1 2 1 1\n",
      " 2 2 1 1 1 2 2 1 2 2 1 2 2 1 2 2 2 2 2 2 2 2 2 2 1 2 2 1 2 2 2 2 1 1 2 1 1\n",
      " 1 1 1 2 1 1 1 1 1 1 1 2 1 1 2 1 2 1 2 1 1 2 2 2 2 1 2 2 1 2 1 2 1 2 2 2 1\n",
      " 1 1 1 1 1 2 1 1 2 2 1 2 2 1 1 1 1 1 1 2 1 1 2 1 1 1 1 1 2 2 2 1 1 1 2 2 1\n",
      " 1 2 1 2 1 1 2 1 1 1 1 1 1 2 2 1 2 2 1 1 1 2 1 2 2 1 1 1 1 2 2 2 1 1 1 1 1\n",
      " 2 1 1 2 1 1 2 2 2 2 2 2 2 1 1 1 1 1 1 2 2 2 1 1 1 1 1 1 1 2 1 1 1 1 2 2 1\n",
      " 2 1 1 1 1 2 1 1 1 2 1 2 2 2 2 2 2 1 2 2 1 1 1 2 1 2 2 1 1 1 2 2 2 2 2 1 2\n",
      " 2 2 2 1 2 1 1 1 1 2 2 2 1 2 2 1 1 2 1 1 1 1 1 1 1 1 2 2 1 1 2 1 2 1 1 1 2\n",
      " 1 2 1 2 1 2 1 2 1 1 1 2 2 1 1 1 1 1 1 1 1 2 2 1 2 1 2 2 2 1 1 2 1 2 1 1 1\n",
      " 1 1 2 2 1 1 1 1 2 2 1 1 1 1 2 2 2 1 2 1 1 2 2 2 2 2 2 1 2 1 2 2 2 1 1 1 1\n",
      " 1 1 1 2 1 1 2 2 2 2 2 1 2 2 2 1 2 1 1 1 1 2 1 2 1 1 1 2 1 1 2 2 1 1 1 1 2\n",
      " 1 1 1 2 1 1 2 2 2 1 2 1 1 2 2 1 2 1 2 1 2 2 2 1 2 1 2 2 1 1 2 2 1 1 1 2 2\n",
      " 1 1 1 1 1 1 1 2 1 1 1 1 1 2 1 1 1 1 1 1 1 1 1 2 2 1 2 1 1 1 1 2 1 2 1 1 1\n",
      " 1 1 1 1 2 1 1 1 1 1 1 2 2 1 2 1 1 1 1 1 2 2 1 2 1 1 1 1 1 1 2 1 2 1 2 1 1\n",
      " 1 2 1 2 1 2 2 1 1 1 1 1 1 1 1 1 1 2 1 2 1 1 1 1 1 1 2 2 2 2 2 2 1 1 2 1 2\n",
      " 1 2 2 1 1]\n"
     ]
    },
    {
     "data": {
      "text/plain": [
       "3"
      ]
     },
     "execution_count": 55,
     "metadata": {},
     "output_type": "execute_result"
    }
   ],
   "source": [
    "print('X_train:',X_train.shape)\n",
    "print('X_test:',X_test.shape)\n",
    "print('y_train:',y_train)\n",
    "len(basemodes)"
   ]
  },
  {
   "cell_type": "code",
   "execution_count": 73,
   "metadata": {},
   "outputs": [
    {
     "name": "stdout",
     "output_type": "stream",
     "text": [
      "5\n",
      "0.5714285714285714\n"
     ]
    }
   ],
   "source": [
    "# 交叉验证\n",
    "# 在同一个数据集上学习算法的参数和进行预测是方法性的错误。很有可能会导致Overfitting。\n",
    "# 避免过拟合的常用方法是将一部分数据作为测试集，用以对算法进行测试\n",
    "from sklearn.cross_validation import KFold, StratifiedKFold   \n",
    "models = basemodes\n",
    "\n",
    "#X_train, X_test, y_train, y_test\n",
    "#len(y_train)指代样本数，n_folds指代将数据集分成多少份且做几次验证试验\n",
    "folds = list(KFold(len(y_train), n_folds=5, random_state=0))\n",
    "print (len(folds))\n",
    "\n",
    "#X_train.shape: (782, 300)\n",
    "#X_test.shape: (196, 300)\n",
    "#len(model): 3\n",
    "# for i, (j, k) in enumerate(folds):\n",
    "#         print('j',j[0:10])\n",
    "#         print('k',k[0:10])\n",
    "S_train = np.zeros((X_train.shape[0], len(models)))\n",
    "S_test = np.zeros((X_test.shape[0], len(models)))\n",
    "\n",
    "for i, bm in enumerate(models):\n",
    "    clf = bm[1]\n",
    "\n",
    "    #S_test_i = np.zeros((y_test.shape[0], len(folds)))\n",
    "    for j, (train_idx, test_idx) in enumerate(folds):\n",
    "        X_train_cv = X_train[train_idx]\n",
    "        y_train_cv = y_train[train_idx]\n",
    "        X_val = X_train[test_idx]\n",
    "        clf.fit(X_train_cv, y_train_cv)\n",
    "        y_val = clf.predict(X_val)[:]\n",
    "          \n",
    "        S_train[test_idx, i] = y_val\n",
    "    S_test[:,i] = clf.predict(X_test)\n",
    "\n",
    "final_clf = RandomForestClassifier(n_estimators=100)\n",
    "final_clf.fit(S_train,y_train)\n",
    "\n",
    "print (final_clf.score(S_test,y_test))\n",
    "\n"
   ]
  },
  {
   "cell_type": "code",
   "execution_count": null,
   "metadata": {},
   "outputs": [],
   "source": []
  },
  {
   "cell_type": "code",
   "execution_count": null,
   "metadata": {},
   "outputs": [],
   "source": []
  }
 ],
 "metadata": {
  "kernelspec": {
   "display_name": "Python 3",
   "language": "python",
   "name": "python3"
  },
  "language_info": {
   "codemirror_mode": {
    "name": "ipython",
    "version": 3
   },
   "file_extension": ".py",
   "mimetype": "text/x-python",
   "name": "python",
   "nbconvert_exporter": "python",
   "pygments_lexer": "ipython3",
   "version": "3.6.4"
  }
 },
 "nbformat": 4,
 "nbformat_minor": 2
}
